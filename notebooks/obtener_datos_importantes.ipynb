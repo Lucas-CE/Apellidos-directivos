{
 "cells": [
  {
   "cell_type": "markdown",
   "metadata": {},
   "source": [
    "# **Obtención de empresas y apellidos más importantes**"
   ]
  },
  {
   "cell_type": "markdown",
   "metadata": {},
   "source": [
    "La idea del proyecto es disponibilizar una visualización que permita a los usuarios ver rápidamente apellidos y empresas en 2 casos:\n",
    "- Apellidos que tengan muchas empresas relacionadas\n",
    "- Apellidos que tengan una presencia muy alta en una empresa"
   ]
  },
  {
   "cell_type": "code",
   "execution_count": 49,
   "metadata": {},
   "outputs": [],
   "source": [
    "import pandas as pd\n",
    "import matplotlib.pyplot as plt"
   ]
  },
  {
   "cell_type": "code",
   "execution_count": 50,
   "metadata": {},
   "outputs": [
    {
     "data": {
      "text/html": [
       "<div>\n",
       "<style scoped>\n",
       "    .dataframe tbody tr th:only-of-type {\n",
       "        vertical-align: middle;\n",
       "    }\n",
       "\n",
       "    .dataframe tbody tr th {\n",
       "        vertical-align: top;\n",
       "    }\n",
       "\n",
       "    .dataframe thead th {\n",
       "        text-align: right;\n",
       "    }\n",
       "</style>\n",
       "<table border=\"1\" class=\"dataframe\">\n",
       "  <thead>\n",
       "    <tr style=\"text-align: right;\">\n",
       "      <th></th>\n",
       "      <th>Nombre_empresa</th>\n",
       "      <th>Apellido</th>\n",
       "      <th>conteo</th>\n",
       "    </tr>\n",
       "  </thead>\n",
       "  <tbody>\n",
       "    <tr>\n",
       "      <th>0</th>\n",
       "      <td>AD RETAIL S.A.</td>\n",
       "      <td>ALVAREZ</td>\n",
       "      <td>1</td>\n",
       "    </tr>\n",
       "    <tr>\n",
       "      <th>1</th>\n",
       "      <td>AD RETAIL S.A.</td>\n",
       "      <td>BARBIERI</td>\n",
       "      <td>1</td>\n",
       "    </tr>\n",
       "    <tr>\n",
       "      <th>2</th>\n",
       "      <td>AD RETAIL S.A.</td>\n",
       "      <td>CARRERE</td>\n",
       "      <td>1</td>\n",
       "    </tr>\n",
       "    <tr>\n",
       "      <th>3</th>\n",
       "      <td>AD RETAIL S.A.</td>\n",
       "      <td>ESTEFAN</td>\n",
       "      <td>1</td>\n",
       "    </tr>\n",
       "    <tr>\n",
       "      <th>4</th>\n",
       "      <td>AD RETAIL S.A.</td>\n",
       "      <td>GONZALEZ</td>\n",
       "      <td>1</td>\n",
       "    </tr>\n",
       "  </tbody>\n",
       "</table>\n",
       "</div>"
      ],
      "text/plain": [
       "   Nombre_empresa  Apellido  conteo\n",
       "0  AD RETAIL S.A.   ALVAREZ       1\n",
       "1  AD RETAIL S.A.  BARBIERI       1\n",
       "2  AD RETAIL S.A.   CARRERE       1\n",
       "3  AD RETAIL S.A.   ESTEFAN       1\n",
       "4  AD RETAIL S.A.  GONZALEZ       1"
      ]
     },
     "execution_count": 50,
     "metadata": {},
     "output_type": "execute_result"
    }
   ],
   "source": [
    "df = pd.read_csv('../data/company_surname_count.csv')\n",
    "df.head()"
   ]
  },
  {
   "cell_type": "markdown",
   "metadata": {},
   "source": [
    "### **Caso 1**: Apellidos que tengan muchas empresas relacionadas"
   ]
  },
  {
   "cell_type": "code",
   "execution_count": 51,
   "metadata": {},
   "outputs": [
    {
     "data": {
      "image/png": "[encoded data removed]",
      "text/plain": [
       "<Figure size 640x480 with 1 Axes>"
      ]
     },
     "metadata": {},
     "output_type": "display_data"
    }
   ],
   "source": [
    "surnames_companies_count = df[[\"Nombre_empresa\", \"Apellido\"]].groupby('Apellido').count().sort_values(by='Nombre_empresa', ascending=False)\n",
    "\n",
    "plt.hist(surnames_companies_count['Nombre_empresa'], bins=100, log=True)\n",
    "plt.xlabel('Number of companies')\n",
    "plt.ylabel('Number of surnames')\n",
    "plt.title('Number of companies per surname')\n",
    "plt.show()"
   ]
  },
  {
   "cell_type": "code",
   "execution_count": 52,
   "metadata": {},
   "outputs": [
    {
     "name": "stdout",
     "output_type": "stream",
     "text": [
      "Number of surnames with more than 30 companies: 34\n",
      "Number of (Company,Surname) with surnames with more than 30 companies: 1738\n"
     ]
    }
   ],
   "source": [
    "companies_count_threshold = 30\n",
    "surnames_high_companies_count = surnames_companies_count[surnames_companies_count['Nombre_empresa'] > companies_count_threshold]\n",
    "\n",
    "df_relevant_surnames_companies_count = df[df['Apellido'].isin(surnames_high_companies_count.index)]\n",
    "\n",
    "print(f\"Number of surnames with more than {companies_count_threshold} companies: {len(surnames_high_companies_count)}\")\n",
    "print(f\"Number of (Company,Surname) with surnames with more than {companies_count_threshold} companies: {len(df_relevant_surnames_companies_count)}\")"
   ]
  },
  {
   "cell_type": "code",
   "execution_count": 53,
   "metadata": {},
   "outputs": [
    {
     "data": {
      "text/html": [
       "<div>\n",
       "<style scoped>\n",
       "    .dataframe tbody tr th:only-of-type {\n",
       "        vertical-align: middle;\n",
       "    }\n",
       "\n",
       "    .dataframe tbody tr th {\n",
       "        vertical-align: top;\n",
       "    }\n",
       "\n",
       "    .dataframe thead th {\n",
       "        text-align: right;\n",
       "    }\n",
       "</style>\n",
       "<table border=\"1\" class=\"dataframe\">\n",
       "  <thead>\n",
       "    <tr style=\"text-align: right;\">\n",
       "      <th></th>\n",
       "      <th>Nombre_empresa</th>\n",
       "      <th>Apellido</th>\n",
       "      <th>conteo</th>\n",
       "    </tr>\n",
       "  </thead>\n",
       "  <tbody>\n",
       "    <tr>\n",
       "      <th>0</th>\n",
       "      <td>AD RETAIL S.A.</td>\n",
       "      <td>ALVAREZ</td>\n",
       "      <td>1</td>\n",
       "    </tr>\n",
       "    <tr>\n",
       "      <th>4</th>\n",
       "      <td>AD RETAIL S.A.</td>\n",
       "      <td>GONZALEZ</td>\n",
       "      <td>1</td>\n",
       "    </tr>\n",
       "    <tr>\n",
       "      <th>13</th>\n",
       "      <td>AD RETAIL S.A.</td>\n",
       "      <td>SANCHEZ</td>\n",
       "      <td>1</td>\n",
       "    </tr>\n",
       "    <tr>\n",
       "      <th>18</th>\n",
       "      <td>AD RETAIL S.A.</td>\n",
       "      <td>VERGARA</td>\n",
       "      <td>1</td>\n",
       "    </tr>\n",
       "    <tr>\n",
       "      <th>23</th>\n",
       "      <td>ADMINISTRADORA DE FONDOS DE PENSIONES CAPITAL ...</td>\n",
       "      <td>CASTRO</td>\n",
       "      <td>1</td>\n",
       "    </tr>\n",
       "  </tbody>\n",
       "</table>\n",
       "</div>"
      ],
      "text/plain": [
       "                                       Nombre_empresa  Apellido  conteo\n",
       "0                                      AD RETAIL S.A.   ALVAREZ       1\n",
       "4                                      AD RETAIL S.A.  GONZALEZ       1\n",
       "13                                     AD RETAIL S.A.   SANCHEZ       1\n",
       "18                                     AD RETAIL S.A.   VERGARA       1\n",
       "23  ADMINISTRADORA DE FONDOS DE PENSIONES CAPITAL ...    CASTRO       1"
      ]
     },
     "execution_count": 53,
     "metadata": {},
     "output_type": "execute_result"
    }
   ],
   "source": [
    "df_relevant_surnames_companies_count.head()"
   ]
  },
  {
   "cell_type": "markdown",
   "metadata": {},
   "source": [
    "### **Caso 2**: Apellidos que tengan una presencia muy alta en una empresa"
   ]
  },
  {
   "cell_type": "code",
   "execution_count": 54,
   "metadata": {},
   "outputs": [
    {
     "data": {
      "image/png": "[encoded data removed]",
      "text/plain": [
       "<Figure size 640x480 with 1 Axes>"
      ]
     },
     "metadata": {},
     "output_type": "display_data"
    }
   ],
   "source": [
    "plt.hist(df['conteo'], bins=100, log=True)\n",
    "plt.xlabel('Number of companies')\n",
    "plt.ylabel('Number of surnames')\n",
    "plt.title('Number of companies per surname')\n",
    "plt.show()"
   ]
  },
  {
   "cell_type": "code",
   "execution_count": 55,
   "metadata": {},
   "outputs": [
    {
     "name": "stdout",
     "output_type": "stream",
     "text": [
      "Number of (Company,Surname) with surnames with more than 6 companies: 937\n"
     ]
    }
   ],
   "source": [
    "surname_relevant_some_company = df[df['conteo'] >= 2]\n",
    "\n",
    "print(f\"Number of (Company,Surname) with surnames with more than 6 companies: {len(surname_relevant_some_company)}\")"
   ]
  },
  {
   "cell_type": "code",
   "execution_count": 56,
   "metadata": {},
   "outputs": [
    {
     "data": {
      "text/html": [
       "<div>\n",
       "<style scoped>\n",
       "    .dataframe tbody tr th:only-of-type {\n",
       "        vertical-align: middle;\n",
       "    }\n",
       "\n",
       "    .dataframe tbody tr th {\n",
       "        vertical-align: top;\n",
       "    }\n",
       "\n",
       "    .dataframe thead th {\n",
       "        text-align: right;\n",
       "    }\n",
       "</style>\n",
       "<table border=\"1\" class=\"dataframe\">\n",
       "  <thead>\n",
       "    <tr style=\"text-align: right;\">\n",
       "      <th></th>\n",
       "      <th>Nombre_empresa</th>\n",
       "      <th>Apellido</th>\n",
       "      <th>conteo</th>\n",
       "    </tr>\n",
       "  </thead>\n",
       "  <tbody>\n",
       "    <tr>\n",
       "      <th>10</th>\n",
       "      <td>AD RETAIL S.A.</td>\n",
       "      <td>NEGRI</td>\n",
       "      <td>2</td>\n",
       "    </tr>\n",
       "    <tr>\n",
       "      <th>14</th>\n",
       "      <td>AD RETAIL S.A.</td>\n",
       "      <td>SANTA CRUZ</td>\n",
       "      <td>3</td>\n",
       "    </tr>\n",
       "    <tr>\n",
       "      <th>60</th>\n",
       "      <td>ADMINISTRADORA DE FONDOS DE PENSIONES CUPRUM S.A.</td>\n",
       "      <td>INFANTE</td>\n",
       "      <td>3</td>\n",
       "    </tr>\n",
       "    <tr>\n",
       "      <th>78</th>\n",
       "      <td>ADMINISTRADORA DE FONDOS DE PENSIONES HABITAT ...</td>\n",
       "      <td>BARROS</td>\n",
       "      <td>2</td>\n",
       "    </tr>\n",
       "    <tr>\n",
       "      <th>83</th>\n",
       "      <td>ADMINISTRADORA DE FONDOS DE PENSIONES HABITAT ...</td>\n",
       "      <td>COOPER</td>\n",
       "      <td>2</td>\n",
       "    </tr>\n",
       "  </tbody>\n",
       "</table>\n",
       "</div>"
      ],
      "text/plain": [
       "                                       Nombre_empresa    Apellido  conteo\n",
       "10                                     AD RETAIL S.A.       NEGRI       2\n",
       "14                                     AD RETAIL S.A.  SANTA CRUZ       3\n",
       "60  ADMINISTRADORA DE FONDOS DE PENSIONES CUPRUM S.A.     INFANTE       3\n",
       "78  ADMINISTRADORA DE FONDOS DE PENSIONES HABITAT ...      BARROS       2\n",
       "83  ADMINISTRADORA DE FONDOS DE PENSIONES HABITAT ...      COOPER       2"
      ]
     },
     "execution_count": 56,
     "metadata": {},
     "output_type": "execute_result"
    }
   ],
   "source": [
    "surname_relevant_some_company.head()"
   ]
  },
  {
   "cell_type": "markdown",
   "metadata": {},
   "source": [
    "### **Juntando los casos 1 y 2**"
   ]
  },
  {
   "cell_type": "markdown",
   "metadata": {},
   "source": [
    "Recordando que en nuestro dataset la llave es (Nombre_empresa, Apellido), podemos hacer un join entre los casos 1 y 2 para obtener una visualización que muestre los apellidos que tienen muchas empresas relacionadas y que además tengan una presencia muy alta en una empresa."
   ]
  },
  {
   "cell_type": "code",
   "execution_count": 60,
   "metadata": {},
   "outputs": [
    {
     "data": {
      "text/html": [
       "<div>\n",
       "<style scoped>\n",
       "    .dataframe tbody tr th:only-of-type {\n",
       "        vertical-align: middle;\n",
       "    }\n",
       "\n",
       "    .dataframe tbody tr th {\n",
       "        vertical-align: top;\n",
       "    }\n",
       "\n",
       "    .dataframe thead th {\n",
       "        text-align: right;\n",
       "    }\n",
       "</style>\n",
       "<table border=\"1\" class=\"dataframe\">\n",
       "  <thead>\n",
       "    <tr style=\"text-align: right;\">\n",
       "      <th></th>\n",
       "      <th>Nombre_empresa</th>\n",
       "      <th>Apellido</th>\n",
       "      <th>conteo</th>\n",
       "    </tr>\n",
       "  </thead>\n",
       "  <tbody>\n",
       "    <tr>\n",
       "      <th>0</th>\n",
       "      <td>ADMINISTRADORA DE FONDOS DE PENSIONES HABITAT ...</td>\n",
       "      <td>BARROS</td>\n",
       "      <td>2</td>\n",
       "    </tr>\n",
       "    <tr>\n",
       "      <th>1</th>\n",
       "      <td>ADMINISTRADORA DE FONDOS DE PENSIONES HABITAT ...</td>\n",
       "      <td>RODRIGUEZ</td>\n",
       "      <td>3</td>\n",
       "    </tr>\n",
       "    <tr>\n",
       "      <th>2</th>\n",
       "      <td>ADMINISTRADORA DE FONDOS DE PENSIONES HABITAT ...</td>\n",
       "      <td>VALDES</td>\n",
       "      <td>2</td>\n",
       "    </tr>\n",
       "    <tr>\n",
       "      <th>3</th>\n",
       "      <td>ADMINISTRADORA GENERAL DE FONDOS SECURITY S.A.</td>\n",
       "      <td>SILVA</td>\n",
       "      <td>2</td>\n",
       "    </tr>\n",
       "    <tr>\n",
       "      <th>4</th>\n",
       "      <td>ADMINISTRADORA GENERAL DE FONDOS VISION ADVISO...</td>\n",
       "      <td>GUZMAN</td>\n",
       "      <td>3</td>\n",
       "    </tr>\n",
       "  </tbody>\n",
       "</table>\n",
       "</div>"
      ],
      "text/plain": [
       "                                      Nombre_empresa   Apellido  conteo\n",
       "0  ADMINISTRADORA DE FONDOS DE PENSIONES HABITAT ...     BARROS       2\n",
       "1  ADMINISTRADORA DE FONDOS DE PENSIONES HABITAT ...  RODRIGUEZ       3\n",
       "2  ADMINISTRADORA DE FONDOS DE PENSIONES HABITAT ...     VALDES       2\n",
       "3     ADMINISTRADORA GENERAL DE FONDOS SECURITY S.A.      SILVA       2\n",
       "4  ADMINISTRADORA GENERAL DE FONDOS VISION ADVISO...     GUZMAN       3"
      ]
     },
     "execution_count": 60,
     "metadata": {},
     "output_type": "execute_result"
    }
   ],
   "source": [
    "case_1 = df_relevant_surnames_companies_count.copy()\n",
    "case_2 = surname_relevant_some_company.copy()\n",
    "\n",
    "relevant_data = case_1.merge(case_2, on=['Nombre_empresa', 'Apellido'], how='inner')\n",
    "relevant_data = relevant_data.drop(columns=['conteo_y'])\n",
    "relevant_data = relevant_data.rename(columns={'conteo_x': 'conteo'})\n",
    "relevant_data.head()"
   ]
  },
  {
   "cell_type": "markdown",
   "metadata": {},
   "source": [
    "Guardamos el resultado en un archivo csv para poder visualizarlo en una visualización de datos."
   ]
  },
  {
   "cell_type": "code",
   "execution_count": 63,
   "metadata": {},
   "outputs": [],
   "source": [
    "relevant_data.to_csv('../data/relevant_directors_surnames.csv', index=False)"
   ]
  },
  {
   "cell_type": "markdown",
   "metadata": {},
   "source": []
  }
 ],
 "metadata": {
  "kernelspec": {
   "display_name": "nb-env",
   "language": "python",
   "name": "python3"
  },
  "language_info": {
   "codemirror_mode": {
    "name": "ipython",
    "version": 3
   },
   "file_extension": ".py",
   "mimetype": "text/x-python",
   "name": "python",
   "nbconvert_exporter": "python",
   "pygments_lexer": "ipython3",
   "version": "3.12.1"
  }
 },
 "nbformat": 4,
 "nbformat_minor": 2
}
