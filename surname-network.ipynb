{
 "cells": [
  {
   "cell_type": "markdown",
   "metadata": {},
   "source": [
    "# Introducción a la Visualización de Redes\n",
    "\n",
    "En este notebook aprenderemos a visualizar redes con el módulo `aves` a través de [graphtool](http://graph-tool.skewed.de/), una biblioteca para trabajar con redes en Python.\n",
    "\n",
    "Los propósitos de esta clase son los siguientes:\n",
    "\n",
    "  1. Cargar una red.\n",
    "  2. Explorar como visualizarla.\n",
    "  3. Definir una tarea y usar visualización para responderla.\n",
    "  \n",
    "Como data set de prueba utilizaremos la Red de Jazz que se encuentra en [Colección de Redes de Koblenz](http://konect.uni-koblenz.de/networks/arenas-jazz). Ya está incluida en el repositorio `aves`, en la carpeta `data/external/arenas-jazz`.\n"
   ]
  },
  {
   "cell_type": "markdown",
   "metadata": {},
   "source": [
    "## Carga de Datos"
   ]
  },
  {
   "cell_type": "code",
   "execution_count": 1,
   "metadata": {},
   "outputs": [],
   "source": [
    "DATA_PATH = \"data\""
   ]
  },
  {
   "cell_type": "code",
   "execution_count": 2,
   "metadata": {},
   "outputs": [
    {
     "name": "stdout",
     "output_type": "stream",
     "text": [
      "Requirement already satisfied: streamlit in c:\\users\\lucas\\python-envs\\nb-env\\lib\\site-packages (1.40.0)\n",
      "Requirement already satisfied: altair<6,>=4.0 in c:\\users\\lucas\\python-envs\\nb-env\\lib\\site-packages (from streamlit) (5.4.1)\n",
      "Requirement already satisfied: blinker<2,>=1.0.0 in c:\\users\\lucas\\python-envs\\nb-env\\lib\\site-packages (from streamlit) (1.8.2)\n",
      "Requirement already satisfied: cachetools<6,>=4.0 in c:\\users\\lucas\\python-envs\\nb-env\\lib\\site-packages (from streamlit) (5.3.3)\n",
      "Requirement already satisfied: click<9,>=7.0 in c:\\users\\lucas\\python-envs\\nb-env\\lib\\site-packages (from streamlit) (8.1.7)\n",
      "Requirement already satisfied: numpy<3,>=1.20 in c:\\users\\lucas\\python-envs\\nb-env\\lib\\site-packages (from streamlit) (1.26.4)\n",
      "Requirement already satisfied: packaging<25,>=20 in c:\\users\\lucas\\python-envs\\nb-env\\lib\\site-packages (from streamlit) (23.2)\n",
      "Requirement already satisfied: pandas<3,>=1.4.0 in c:\\users\\lucas\\python-envs\\nb-env\\lib\\site-packages (from streamlit) (2.1.4)\n",
      "Requirement already satisfied: pillow<12,>=7.1.0 in c:\\users\\lucas\\python-envs\\nb-env\\lib\\site-packages (from streamlit) (10.2.0)\n",
      "Requirement already satisfied: protobuf<6,>=3.20 in c:\\users\\lucas\\python-envs\\nb-env\\lib\\site-packages (from streamlit) (5.28.3)\n",
      "Requirement already satisfied: pyarrow>=7.0 in c:\\users\\lucas\\python-envs\\nb-env\\lib\\site-packages (from streamlit) (15.0.0)\n",
      "Requirement already satisfied: requests<3,>=2.27 in c:\\users\\lucas\\python-envs\\nb-env\\lib\\site-packages (from streamlit) (2.31.0)\n",
      "Requirement already satisfied: rich<14,>=10.14.0 in c:\\users\\lucas\\python-envs\\nb-env\\lib\\site-packages (from streamlit) (13.7.1)\n",
      "Requirement already satisfied: tenacity<10,>=8.1.0 in c:\\users\\lucas\\python-envs\\nb-env\\lib\\site-packages (from streamlit) (8.2.3)\n",
      "Requirement already satisfied: toml<2,>=0.10.1 in c:\\users\\lucas\\python-envs\\nb-env\\lib\\site-packages (from streamlit) (0.10.2)\n",
      "Requirement already satisfied: typing-extensions<5,>=4.3.0 in c:\\users\\lucas\\python-envs\\nb-env\\lib\\site-packages (from streamlit) (4.12.2)\n",
      "Requirement already satisfied: gitpython!=3.1.19,<4,>=3.0.7 in c:\\users\\lucas\\python-envs\\nb-env\\lib\\site-packages (from streamlit) (3.1.43)\n",
      "Requirement already satisfied: pydeck<1,>=0.8.0b4 in c:\\users\\lucas\\python-envs\\nb-env\\lib\\site-packages (from streamlit) (0.9.1)\n",
      "Requirement already satisfied: tornado<7,>=6.0.3 in c:\\users\\lucas\\python-envs\\nb-env\\lib\\site-packages (from streamlit) (6.4)\n",
      "Requirement already satisfied: watchdog<6,>=2.1.5 in c:\\users\\lucas\\python-envs\\nb-env\\lib\\site-packages (from streamlit) (5.0.3)\n",
      "Requirement already satisfied: jinja2 in c:\\users\\lucas\\python-envs\\nb-env\\lib\\site-packages (from altair<6,>=4.0->streamlit) (3.1.3)\n",
      "Requirement already satisfied: jsonschema>=3.0 in c:\\users\\lucas\\python-envs\\nb-env\\lib\\site-packages (from altair<6,>=4.0->streamlit) (4.21.1)\n",
      "Requirement already satisfied: narwhals>=1.5.2 in c:\\users\\lucas\\python-envs\\nb-env\\lib\\site-packages (from altair<6,>=4.0->streamlit) (1.13.3)\n",
      "Requirement already satisfied: colorama in c:\\users\\lucas\\python-envs\\nb-env\\lib\\site-packages (from click<9,>=7.0->streamlit) (0.4.6)\n",
      "Requirement already satisfied: gitdb<5,>=4.0.1 in c:\\users\\lucas\\python-envs\\nb-env\\lib\\site-packages (from gitpython!=3.1.19,<4,>=3.0.7->streamlit) (4.0.11)\n",
      "Requirement already satisfied: python-dateutil>=2.8.2 in c:\\users\\lucas\\python-envs\\nb-env\\lib\\site-packages (from pandas<3,>=1.4.0->streamlit) (2.8.2)\n",
      "Requirement already satisfied: pytz>=2020.1 in c:\\users\\lucas\\python-envs\\nb-env\\lib\\site-packages (from pandas<3,>=1.4.0->streamlit) (2023.4)\n",
      "Requirement already satisfied: tzdata>=2022.1 in c:\\users\\lucas\\python-envs\\nb-env\\lib\\site-packages (from pandas<3,>=1.4.0->streamlit) (2023.4)\n",
      "Requirement already satisfied: charset-normalizer<4,>=2 in c:\\users\\lucas\\python-envs\\nb-env\\lib\\site-packages (from requests<3,>=2.27->streamlit) (3.3.2)\n",
      "Requirement already satisfied: idna<4,>=2.5 in c:\\users\\lucas\\python-envs\\nb-env\\lib\\site-packages (from requests<3,>=2.27->streamlit) (3.6)\n",
      "Requirement already satisfied: urllib3<3,>=1.21.1 in c:\\users\\lucas\\python-envs\\nb-env\\lib\\site-packages (from requests<3,>=2.27->streamlit) (2.2.0)\n",
      "Requirement already satisfied: certifi>=2017.4.17 in c:\\users\\lucas\\python-envs\\nb-env\\lib\\site-packages (from requests<3,>=2.27->streamlit) (2024.2.2)\n",
      "Requirement already satisfied: markdown-it-py>=2.2.0 in c:\\users\\lucas\\python-envs\\nb-env\\lib\\site-packages (from rich<14,>=10.14.0->streamlit) (3.0.0)\n",
      "Requirement already satisfied: pygments<3.0.0,>=2.13.0 in c:\\users\\lucas\\python-envs\\nb-env\\lib\\site-packages (from rich<14,>=10.14.0->streamlit) (2.17.2)\n",
      "Requirement already satisfied: smmap<6,>=3.0.1 in c:\\users\\lucas\\python-envs\\nb-env\\lib\\site-packages (from gitdb<5,>=4.0.1->gitpython!=3.1.19,<4,>=3.0.7->streamlit) (5.0.1)\n",
      "Requirement already satisfied: MarkupSafe>=2.0 in c:\\users\\lucas\\python-envs\\nb-env\\lib\\site-packages (from jinja2->altair<6,>=4.0->streamlit) (2.1.5)\n",
      "Requirement already satisfied: attrs>=22.2.0 in c:\\users\\lucas\\python-envs\\nb-env\\lib\\site-packages (from jsonschema>=3.0->altair<6,>=4.0->streamlit) (23.2.0)\n",
      "Requirement already satisfied: jsonschema-specifications>=2023.03.6 in c:\\users\\lucas\\python-envs\\nb-env\\lib\\site-packages (from jsonschema>=3.0->altair<6,>=4.0->streamlit) (2023.12.1)\n",
      "Requirement already satisfied: referencing>=0.28.4 in c:\\users\\lucas\\python-envs\\nb-env\\lib\\site-packages (from jsonschema>=3.0->altair<6,>=4.0->streamlit) (0.34.0)\n",
      "Requirement already satisfied: rpds-py>=0.7.1 in c:\\users\\lucas\\python-envs\\nb-env\\lib\\site-packages (from jsonschema>=3.0->altair<6,>=4.0->streamlit) (0.18.0)\n",
      "Requirement already satisfied: mdurl~=0.1 in c:\\users\\lucas\\python-envs\\nb-env\\lib\\site-packages (from markdown-it-py>=2.2.0->rich<14,>=10.14.0->streamlit) (0.1.2)\n",
      "Requirement already satisfied: six>=1.5 in c:\\users\\lucas\\python-envs\\nb-env\\lib\\site-packages (from python-dateutil>=2.8.2->pandas<3,>=1.4.0->streamlit) (1.16.0)\n",
      "Note: you may need to restart the kernel to use updated packages.\n"
     ]
    },
    {
     "name": "stderr",
     "output_type": "stream",
     "text": [
      "\n",
      "[notice] A new release of pip is available: 24.0 -> 24.3.1\n",
      "[notice] To update, run: python.exe -m pip install --upgrade pip\n"
     ]
    }
   ],
   "source": [
    "%pip install streamlit"
   ]
  },
  {
   "cell_type": "code",
   "execution_count": 3,
   "metadata": {},
   "outputs": [],
   "source": [
    "import pandas as pd\n",
    "import matplotlib.pyplot as plt\n",
    "import networkx as nx\n",
    "import streamlit as st"
   ]
  },
  {
   "cell_type": "code",
   "execution_count": 4,
   "metadata": {},
   "outputs": [
    {
     "data": {
      "text/html": [
       "<div>\n",
       "<style scoped>\n",
       "    .dataframe tbody tr th:only-of-type {\n",
       "        vertical-align: middle;\n",
       "    }\n",
       "\n",
       "    .dataframe tbody tr th {\n",
       "        vertical-align: top;\n",
       "    }\n",
       "\n",
       "    .dataframe thead th {\n",
       "        text-align: right;\n",
       "    }\n",
       "</style>\n",
       "<table border=\"1\" class=\"dataframe\">\n",
       "  <thead>\n",
       "    <tr style=\"text-align: right;\">\n",
       "      <th></th>\n",
       "      <th>Nombre_empresa</th>\n",
       "      <th>Apellido</th>\n",
       "      <th>conteo</th>\n",
       "    </tr>\n",
       "  </thead>\n",
       "  <tbody>\n",
       "    <tr>\n",
       "      <th>7359</th>\n",
       "      <td>MELON S.A.</td>\n",
       "      <td>BRESCIA</td>\n",
       "      <td>12</td>\n",
       "    </tr>\n",
       "    <tr>\n",
       "      <th>2861</th>\n",
       "      <td>COMPAÑIA DE INVERSIONES LA ESPAÑOLA S.A.</td>\n",
       "      <td>GARCIA</td>\n",
       "      <td>7</td>\n",
       "    </tr>\n",
       "    <tr>\n",
       "      <th>8837</th>\n",
       "      <td>SIPSA SOCIEDAD ANONIMA</td>\n",
       "      <td>MENENDEZ</td>\n",
       "      <td>7</td>\n",
       "    </tr>\n",
       "    <tr>\n",
       "      <th>6754</th>\n",
       "      <td>INVERSIONES HISPANIA S.A.</td>\n",
       "      <td>GARCIA</td>\n",
       "      <td>6</td>\n",
       "    </tr>\n",
       "    <tr>\n",
       "      <th>399</th>\n",
       "      <td>AGROSUPER S.A.</td>\n",
       "      <td>VIAL</td>\n",
       "      <td>6</td>\n",
       "    </tr>\n",
       "  </tbody>\n",
       "</table>\n",
       "</div>"
      ],
      "text/plain": [
       "                                Nombre_empresa  Apellido  conteo\n",
       "7359                                MELON S.A.   BRESCIA      12\n",
       "2861  COMPAÑIA DE INVERSIONES LA ESPAÑOLA S.A.    GARCIA       7\n",
       "8837                    SIPSA SOCIEDAD ANONIMA  MENENDEZ       7\n",
       "6754                 INVERSIONES HISPANIA S.A.    GARCIA       6\n",
       "399                             AGROSUPER S.A.      VIAL       6"
      ]
     },
     "execution_count": 4,
     "metadata": {},
     "output_type": "execute_result"
    }
   ],
   "source": [
    "company_surname_count_df = pd.read_csv(\n",
    "    f\"{DATA_PATH}/company_surname_count.csv\",\n",
    ")\n",
    "\n",
    "company_surname_count_df.sort_values('conteo', ascending=False).head()"
   ]
  },
  {
   "cell_type": "code",
   "execution_count": 5,
   "metadata": {},
   "outputs": [
    {
     "data": {
      "text/html": [
       "<div>\n",
       "<style scoped>\n",
       "    .dataframe tbody tr th:only-of-type {\n",
       "        vertical-align: middle;\n",
       "    }\n",
       "\n",
       "    .dataframe tbody tr th {\n",
       "        vertical-align: top;\n",
       "    }\n",
       "\n",
       "    .dataframe thead th {\n",
       "        text-align: right;\n",
       "    }\n",
       "</style>\n",
       "<table border=\"1\" class=\"dataframe\">\n",
       "  <thead>\n",
       "    <tr style=\"text-align: right;\">\n",
       "      <th></th>\n",
       "      <th>Nombre_empresa</th>\n",
       "      <th>Apellido</th>\n",
       "      <th>conteo</th>\n",
       "    </tr>\n",
       "  </thead>\n",
       "  <tbody>\n",
       "    <tr>\n",
       "      <th>399</th>\n",
       "      <td>AGROSUPER S.A.</td>\n",
       "      <td>VIAL</td>\n",
       "      <td>6</td>\n",
       "    </tr>\n",
       "    <tr>\n",
       "      <th>723</th>\n",
       "      <td>ANDACOR S.A.</td>\n",
       "      <td>LEATHERBEE</td>\n",
       "      <td>5</td>\n",
       "    </tr>\n",
       "    <tr>\n",
       "      <th>1027</th>\n",
       "      <td>BANCOESTADO S.A. ADMINISTRADORA GENERAL DE FONDOS</td>\n",
       "      <td>ADVANI</td>\n",
       "      <td>5</td>\n",
       "    </tr>\n",
       "    <tr>\n",
       "      <th>2861</th>\n",
       "      <td>COMPAÑIA DE INVERSIONES LA ESPAÑOLA S.A.</td>\n",
       "      <td>GARCIA</td>\n",
       "      <td>7</td>\n",
       "    </tr>\n",
       "    <tr>\n",
       "      <th>2983</th>\n",
       "      <td>COMPAÑIA INDUSTRIAL EL VOLCAN S.A.</td>\n",
       "      <td>LARRAIN</td>\n",
       "      <td>5</td>\n",
       "    </tr>\n",
       "    <tr>\n",
       "      <th>3127</th>\n",
       "      <td>CONTEMPORA CORREDORES DE BOLSA DE PRODUCTOS S.A.</td>\n",
       "      <td>SILVA</td>\n",
       "      <td>5</td>\n",
       "    </tr>\n",
       "    <tr>\n",
       "      <th>4986</th>\n",
       "      <td>ENGIE ENERGIA CHILE S.A.</td>\n",
       "      <td>DE</td>\n",
       "      <td>5</td>\n",
       "    </tr>\n",
       "    <tr>\n",
       "      <th>5051</th>\n",
       "      <td>ENJOY S.A.</td>\n",
       "      <td>MARTINEZ</td>\n",
       "      <td>5</td>\n",
       "    </tr>\n",
       "    <tr>\n",
       "      <th>5307</th>\n",
       "      <td>FALABELLA S.A.</td>\n",
       "      <td>SOLARI</td>\n",
       "      <td>6</td>\n",
       "    </tr>\n",
       "    <tr>\n",
       "      <th>5670</th>\n",
       "      <td>GOLF Y DEPORTES LOMAS DE LA DEHESA S.A.</td>\n",
       "      <td>OSSANDON</td>\n",
       "      <td>5</td>\n",
       "    </tr>\n",
       "    <tr>\n",
       "      <th>6463</th>\n",
       "      <td>INMOBILIARIA SIXTERRA S.A.</td>\n",
       "      <td>NAVARRETE</td>\n",
       "      <td>6</td>\n",
       "    </tr>\n",
       "    <tr>\n",
       "      <th>6754</th>\n",
       "      <td>INVERSIONES HISPANIA S.A.</td>\n",
       "      <td>GARCIA</td>\n",
       "      <td>6</td>\n",
       "    </tr>\n",
       "    <tr>\n",
       "      <th>6926</th>\n",
       "      <td>IPAL S.A.</td>\n",
       "      <td>DE ARETXABALA</td>\n",
       "      <td>5</td>\n",
       "    </tr>\n",
       "    <tr>\n",
       "      <th>6929</th>\n",
       "      <td>IPAL S.A.</td>\n",
       "      <td>HERAZO</td>\n",
       "      <td>5</td>\n",
       "    </tr>\n",
       "    <tr>\n",
       "      <th>7160</th>\n",
       "      <td>LATAM FACTORS S.A.</td>\n",
       "      <td>MARIN</td>\n",
       "      <td>5</td>\n",
       "    </tr>\n",
       "    <tr>\n",
       "      <th>7359</th>\n",
       "      <td>MELON S.A.</td>\n",
       "      <td>BRESCIA</td>\n",
       "      <td>12</td>\n",
       "    </tr>\n",
       "    <tr>\n",
       "      <th>7366</th>\n",
       "      <td>MELON S.A.</td>\n",
       "      <td>MOREYRA</td>\n",
       "      <td>6</td>\n",
       "    </tr>\n",
       "    <tr>\n",
       "      <th>7743</th>\n",
       "      <td>NUEVOSUR S.A</td>\n",
       "      <td>DOMINGUEZ</td>\n",
       "      <td>5</td>\n",
       "    </tr>\n",
       "    <tr>\n",
       "      <th>7745</th>\n",
       "      <td>NUEVOSUR S.A</td>\n",
       "      <td>ERRAZURIZ</td>\n",
       "      <td>5</td>\n",
       "    </tr>\n",
       "    <tr>\n",
       "      <th>8179</th>\n",
       "      <td>QUIÑENCO S.A.</td>\n",
       "      <td>LUKSIC</td>\n",
       "      <td>5</td>\n",
       "    </tr>\n",
       "    <tr>\n",
       "      <th>8527</th>\n",
       "      <td>SANTANA S.A.</td>\n",
       "      <td>VIAL</td>\n",
       "      <td>5</td>\n",
       "    </tr>\n",
       "    <tr>\n",
       "      <th>8837</th>\n",
       "      <td>SIPSA SOCIEDAD ANONIMA</td>\n",
       "      <td>MENENDEZ</td>\n",
       "      <td>7</td>\n",
       "    </tr>\n",
       "    <tr>\n",
       "      <th>9834</th>\n",
       "      <td>SOCIEDAD DE INVERSIONES PAMPA CALICHERA S.A.</td>\n",
       "      <td>PONCE</td>\n",
       "      <td>6</td>\n",
       "    </tr>\n",
       "    <tr>\n",
       "      <th>10259</th>\n",
       "      <td>SODIMAC S.A.</td>\n",
       "      <td>SOLARI</td>\n",
       "      <td>6</td>\n",
       "    </tr>\n",
       "    <tr>\n",
       "      <th>11048</th>\n",
       "      <td>VIÑEDOS EMILIANA S.A.</td>\n",
       "      <td>GANA</td>\n",
       "      <td>5</td>\n",
       "    </tr>\n",
       "  </tbody>\n",
       "</table>\n",
       "</div>"
      ],
      "text/plain": [
       "                                          Nombre_empresa       Apellido  \\\n",
       "399                                       AGROSUPER S.A.           VIAL   \n",
       "723                                         ANDACOR S.A.     LEATHERBEE   \n",
       "1027   BANCOESTADO S.A. ADMINISTRADORA GENERAL DE FONDOS         ADVANI   \n",
       "2861            COMPAÑIA DE INVERSIONES LA ESPAÑOLA S.A.         GARCIA   \n",
       "2983                  COMPAÑIA INDUSTRIAL EL VOLCAN S.A.        LARRAIN   \n",
       "3127    CONTEMPORA CORREDORES DE BOLSA DE PRODUCTOS S.A.          SILVA   \n",
       "4986                            ENGIE ENERGIA CHILE S.A.             DE   \n",
       "5051                                          ENJOY S.A.       MARTINEZ   \n",
       "5307                                      FALABELLA S.A.         SOLARI   \n",
       "5670             GOLF Y DEPORTES LOMAS DE LA DEHESA S.A.       OSSANDON   \n",
       "6463                          INMOBILIARIA SIXTERRA S.A.      NAVARRETE   \n",
       "6754                           INVERSIONES HISPANIA S.A.         GARCIA   \n",
       "6926                                           IPAL S.A.  DE ARETXABALA   \n",
       "6929                                           IPAL S.A.         HERAZO   \n",
       "7160                                  LATAM FACTORS S.A.          MARIN   \n",
       "7359                                          MELON S.A.        BRESCIA   \n",
       "7366                                          MELON S.A.        MOREYRA   \n",
       "7743                                        NUEVOSUR S.A      DOMINGUEZ   \n",
       "7745                                        NUEVOSUR S.A      ERRAZURIZ   \n",
       "8179                                       QUIÑENCO S.A.         LUKSIC   \n",
       "8527                                        SANTANA S.A.           VIAL   \n",
       "8837                              SIPSA SOCIEDAD ANONIMA       MENENDEZ   \n",
       "9834        SOCIEDAD DE INVERSIONES PAMPA CALICHERA S.A.          PONCE   \n",
       "10259                                       SODIMAC S.A.         SOLARI   \n",
       "11048                              VIÑEDOS EMILIANA S.A.           GANA   \n",
       "\n",
       "       conteo  \n",
       "399         6  \n",
       "723         5  \n",
       "1027        5  \n",
       "2861        7  \n",
       "2983        5  \n",
       "3127        5  \n",
       "4986        5  \n",
       "5051        5  \n",
       "5307        6  \n",
       "5670        5  \n",
       "6463        6  \n",
       "6754        6  \n",
       "6926        5  \n",
       "6929        5  \n",
       "7160        5  \n",
       "7359       12  \n",
       "7366        6  \n",
       "7743        5  \n",
       "7745        5  \n",
       "8179        5  \n",
       "8527        5  \n",
       "8837        7  \n",
       "9834        6  \n",
       "10259       6  \n",
       "11048       5  "
      ]
     },
     "execution_count": 5,
     "metadata": {},
     "output_type": "execute_result"
    }
   ],
   "source": [
    "high_freq_company_surname_freq = company_surname_count_df[company_surname_count_df[\"conteo\"] > 4]\n",
    "high_freq_company_surname_freq"
   ]
  },
  {
   "cell_type": "code",
   "execution_count": null,
   "metadata": {},
   "outputs": [],
   "source": [
    "# Guardamos el dataframe\n",
    "# high_freq_company_surname_freq.to_csv(f\"data/high_freq.csv\")"
   ]
  },
  {
   "cell_type": "code",
   "execution_count": null,
   "metadata": {},
   "outputs": [],
   "source": [
    "# Crear un grafo bipartito\n",
    "G = nx.Graph()\n",
    "\n",
    "data = high_freq_company_surname_freq\n",
    "\n",
    "# Añadir nodos para cada conjunto (empresas y apellidos)\n",
    "empresas = data['Nombre_empresa'].unique()\n",
    "apellidos = data['Apellido'].unique()\n",
    "\n",
    "# Añadir nodos con el atributo 'bipartite'\n",
    "G.add_nodes_from(empresas, type='empresa')  # conjunto de empresas\n",
    "G.add_nodes_from(apellidos, type='apellido')  # conjunto de apellidos\n",
    "\n",
    "# Añadir aristas con pesos basados en el conteo\n",
    "for _, row in data.iterrows():\n",
    "    empresa = row['Nombre_empresa']\n",
    "    apellido = row['Apellido']\n",
    "    conteo = row['conteo']\n",
    "    G.add_edge(empresa, apellido, weight=conteo)\n",
    "    \n",
    "# Ajustar layout\n",
    "pos = nx.spring_layout(G, seed=42)"
   ]
  },
  {
   "cell_type": "code",
   "execution_count": null,
   "metadata": {},
   "outputs": [
    {
     "data": {
      "image/png": "[encoded data removed]",
      "text/plain": [
       "<Figure size 1600x1000 with 1 Axes>"
      ]
     },
     "metadata": {},
     "output_type": "display_data"
    }
   ],
   "source": [
    "# Tamaño de los nodos y grosor de las aristas\n",
    "node_size = 100\n",
    "edgewidth = [G[u][v]['weight'] for u, v in G.edges()]\n",
    "\n",
    "\n",
    "plt.figure(figsize=(16, 10))\n",
    "\n",
    "# Dibujar nodos y bordes\n",
    "nx.draw_networkx_nodes(G, pos, nodelist=empresas, node_color=\"skyblue\", node_size=node_size, alpha=0.9, label=\"Empresas\")\n",
    "nx.draw_networkx_nodes(G, pos, nodelist=apellidos, node_color=\"lightgreen\", node_size=node_size, alpha=0.9, label=\"Apellidos\")\n",
    "nx.draw_networkx_edges(G, pos, width=edgewidth, alpha=0.6, edge_color=\"gray\")\n",
    "\n",
    "# Dibujar etiquetas con tamaño y rotación ajustados\n",
    "labels = {node: node for node in G.nodes()}\n",
    "nx.draw_networkx_labels(G, pos, labels=labels, font_size=8, font_color=\"black\", font_family=\"sans-serif\")\n",
    "\n",
    "# Título y leyenda\n",
    "plt.title(\"Relación Bipartita entre Empresas y Apellidos\", fontsize=15)\n",
    "plt.legend(scatterpoints=1, loc=\"upper right\", fontsize=10)\n",
    "plt.axis(\"off\")\n",
    "plt.show()\n"
   ]
  },
  {
   "cell_type": "code",
   "execution_count": null,
   "metadata": {},
   "outputs": [
    {
     "data": {
      "application/vnd.plotly.v1+json": {
       "config": {
        "plotlyServerURL": "https://plot.ly"
       },
       "data": [
        {
         "hoverinfo": "none",
         "line": {
          "color": "#888",
          "width": 0.5
         },
         "mode": "lines",
         "type": "scatter",
         "x": [
          0.31548598008254225,
          0.34791021690354423,
          null,
          0.8348864883040462,
          0.7954732461542013,
          null,
          -0.5493998430981274,
          -0.524883915099444,
          null,
          0.13032101987911313,
          0.1570465252706984,
          null,
          0.7889287183223601,
          0.8188357171114571,
          null,
          -0.23471911485943467,
          -0.2103183545418968,
          null,
          -0.11007469130811355,
          -0.11414211670811543,
          null,
          -0.912602440234873,
          -0.9427355438663264,
          null,
          -0.6745603729567927,
          -0.6387020136925713,
          null,
          0.860018707687394,
          0.8964661265791342,
          null,
          -0.06910604759856294,
          -0.040451317895422806,
          null,
          0.19276414263824745,
          0.1570465252706984,
          null,
          -0.5309227916374574,
          -0.5498140383077168,
          null,
          -0.5309227916374574,
          -0.5478588509541665,
          null,
          0.14223528230880417,
          0.17379398159305448,
          null,
          -0.02456973219227753,
          -0.0490848864056084,
          null,
          -0.02456973219227753,
          0.00742390935712742,
          null,
          0.43505027763991866,
          0.45813472729668003,
          null,
          0.43505027763991866,
          0.4040122822018461,
          null,
          0.04626680161605189,
          0.057801389012750205,
          null,
          0.3790616784360737,
          0.34791021690354423,
          null,
          -0.33585498684694187,
          -0.31367427433783096,
          null,
          0.6022598065167678,
          0.6276837908292393,
          null,
          -0.6173800240738877,
          -0.6387020136925713,
          null,
          -0.7560675404841367,
          -0.7249379186413502,
          null
         ],
         "y": [
          0.6645019403904814,
          0.6675080784490817,
          null,
          0.18281635075388733,
          0.17718653424924272,
          null,
          -0.7882748284965122,
          -0.7640253074438578,
          null,
          0.26033828402455783,
          0.24212558331397724,
          null,
          0.5858959432114018,
          0.6060314412957423,
          null,
          1,
          0.9803497299256757,
          null,
          -0.5856390804412082,
          -0.554038265942529,
          null,
          -0.4433938442189059,
          -0.4339440246359638,
          null,
          -0.05206612771324632,
          -0.06200079863132017,
          null,
          -0.267185832847436,
          -0.27573606923770316,
          null,
          -0.21880011336277588,
          -0.21002396016194094,
          null,
          0.24470531816602392,
          0.24212558331397724,
          null,
          0.7539683453520791,
          0.724624299860969,
          null,
          0.7539683453520791,
          0.7919513285730976,
          null,
          -0.36456097615707594,
          -0.366457088609246,
          null,
          0.04185746192154655,
          0.052665437921278035,
          null,
          0.04185746192154655,
          0.0277401582078585,
          null,
          -0.9033248037358889,
          -0.9409819563231766,
          null,
          -0.9033248037358889,
          -0.8889435401505058,
          null,
          0.9016523541482269,
          0.8728176786740347,
          null,
          0.691843558822841,
          0.6675080784490817,
          null,
          -0.9735020452382986,
          -0.9908299106295353,
          null,
          -0.5339740313434744,
          -0.5520518768006869,
          null,
          -0.08687452361589147,
          -0.06200079863132017,
          null,
          0.39616868302075803,
          0.3898804954544191,
          null
         ]
        },
        {
         "marker": {
          "color": [
           "blue",
           "blue",
           "blue",
           "blue",
           "blue",
           "blue",
           "blue",
           "blue",
           "blue",
           "blue",
           "blue",
           "blue",
           "blue",
           "blue",
           "blue",
           "blue",
           "blue",
           "blue",
           "blue",
           "blue",
           "blue",
           "blue",
           "green",
           "green",
           "green",
           "green",
           "green",
           "green",
           "green",
           "green",
           "green",
           "green",
           "green",
           "green",
           "green",
           "green",
           "green",
           "green",
           "green",
           "green",
           "green",
           "green",
           "green",
           "green"
          ],
          "colorbar": {
           "thickness": 15,
           "title": {
            "side": "right",
            "text": "Count"
           },
           "xanchor": "left"
          },
          "colorscale": [
           [
            0,
            "rgb(255,255,217)"
           ],
           [
            0.125,
            "rgb(237,248,177)"
           ],
           [
            0.25,
            "rgb(199,233,180)"
           ],
           [
            0.375,
            "rgb(127,205,187)"
           ],
           [
            0.5,
            "rgb(65,182,196)"
           ],
           [
            0.625,
            "rgb(29,145,192)"
           ],
           [
            0.75,
            "rgb(34,94,168)"
           ],
           [
            0.875,
            "rgb(37,52,148)"
           ],
           [
            1,
            "rgb(8,29,88)"
           ]
          ],
          "showscale": true,
          "size": 10
         },
         "mode": "markers+text",
         "text": [
          "AGROSUPER S.A.",
          "ANDACOR S.A.",
          "BANCOESTADO S.A. ADMINISTRADORA GENERAL DE FONDOS",
          "COMPAÑIA DE INVERSIONES LA ESPAÑOLA S.A.",
          "COMPAÑIA INDUSTRIAL EL VOLCAN S.A.",
          "CONTEMPORA CORREDORES DE BOLSA DE PRODUCTOS S.A.",
          "ENGIE ENERGIA CHILE S.A.",
          "ENJOY S.A.",
          "FALABELLA S.A.",
          "GOLF Y DEPORTES LOMAS DE LA DEHESA S.A.",
          "INMOBILIARIA SIXTERRA S.A.",
          "INVERSIONES HISPANIA S.A.",
          "IPAL S.A.",
          "LATAM FACTORS S.A.",
          "MELON S.A.",
          "NUEVOSUR S.A",
          "QUIÑENCO S.A.",
          "SANTANA S.A.",
          "SIPSA SOCIEDAD ANONIMA",
          "SOCIEDAD DE INVERSIONES PAMPA CALICHERA S.A.",
          "SODIMAC S.A.",
          "VIÑEDOS EMILIANA S.A.",
          "VIAL",
          "LEATHERBEE",
          "ADVANI",
          "GARCIA",
          "LARRAIN",
          "SILVA",
          "DE",
          "MARTINEZ",
          "SOLARI",
          "OSSANDON",
          "NAVARRETE",
          "DE ARETXABALA",
          "HERAZO",
          "MARIN",
          "BRESCIA",
          "MOREYRA",
          "DOMINGUEZ",
          "ERRAZURIZ",
          "LUKSIC",
          "MENENDEZ",
          "PONCE",
          "GANA"
         ],
         "type": "scatter",
         "x": [
          0.31548598008254225,
          0.8348864883040462,
          -0.5493998430981274,
          0.13032101987911313,
          0.7889287183223601,
          -0.23471911485943467,
          -0.11007469130811355,
          -0.912602440234873,
          -0.6745603729567927,
          0.860018707687394,
          -0.06910604759856294,
          0.19276414263824745,
          -0.5309227916374574,
          0.14223528230880417,
          -0.02456973219227753,
          0.43505027763991866,
          0.04626680161605189,
          0.3790616784360737,
          -0.33585498684694187,
          0.6022598065167678,
          -0.6173800240738877,
          -0.7560675404841367,
          0.34791021690354423,
          0.7954732461542013,
          -0.524883915099444,
          0.1570465252706984,
          0.8188357171114571,
          -0.2103183545418968,
          -0.11414211670811543,
          -0.9427355438663264,
          -0.6387020136925713,
          0.8964661265791342,
          -0.040451317895422806,
          -0.5498140383077168,
          -0.5478588509541665,
          0.17379398159305448,
          -0.0490848864056084,
          0.00742390935712742,
          0.45813472729668003,
          0.4040122822018461,
          0.057801389012750205,
          -0.31367427433783096,
          0.6276837908292393,
          -0.7249379186413502
         ],
         "y": [
          0.6645019403904814,
          0.18281635075388733,
          -0.7882748284965122,
          0.26033828402455783,
          0.5858959432114018,
          1,
          -0.5856390804412082,
          -0.4433938442189059,
          -0.05206612771324632,
          -0.267185832847436,
          -0.21880011336277588,
          0.24470531816602392,
          0.7539683453520791,
          -0.36456097615707594,
          0.04185746192154655,
          -0.9033248037358889,
          0.9016523541482269,
          0.691843558822841,
          -0.9735020452382986,
          -0.5339740313434744,
          -0.08687452361589147,
          0.39616868302075803,
          0.6675080784490817,
          0.17718653424924272,
          -0.7640253074438578,
          0.24212558331397724,
          0.6060314412957423,
          0.9803497299256757,
          -0.554038265942529,
          -0.4339440246359638,
          -0.06200079863132017,
          -0.27573606923770316,
          -0.21002396016194094,
          0.724624299860969,
          0.7919513285730976,
          -0.366457088609246,
          0.052665437921278035,
          0.0277401582078585,
          -0.9409819563231766,
          -0.8889435401505058,
          0.8728176786740347,
          -0.9908299106295353,
          -0.5520518768006869,
          0.3898804954544191
         ]
        }
       ],
       "layout": {
        "hovermode": "closest",
        "margin": {
         "b": 0,
         "l": 0,
         "r": 0,
         "t": 40
        },
        "showlegend": false,
        "template": {
         "data": {
          "candlestick": [
           {
            "decreasing": {
             "line": {
              "color": "#000033"
             }
            },
            "increasing": {
             "line": {
              "color": "#000032"
             }
            },
            "type": "candlestick"
           }
          ],
          "contour": [
           {
            "colorscale": [
             [
              0,
              "#000011"
             ],
             [
              0.1111111111111111,
              "#000012"
             ],
             [
              0.2222222222222222,
              "#000013"
             ],
             [
              0.3333333333333333,
              "#000014"
             ],
             [
              0.4444444444444444,
              "#000015"
             ],
             [
              0.5555555555555556,
              "#000016"
             ],
             [
              0.6666666666666666,
              "#000017"
             ],
             [
              0.7777777777777778,
              "#000018"
             ],
             [
              0.8888888888888888,
              "#000019"
             ],
             [
              1,
              "#000020"
             ]
            ],
            "type": "contour"
           }
          ],
          "contourcarpet": [
           {
            "colorscale": [
             [
              0,
              "#000011"
             ],
             [
              0.1111111111111111,
              "#000012"
             ],
             [
              0.2222222222222222,
              "#000013"
             ],
             [
              0.3333333333333333,
              "#000014"
             ],
             [
              0.4444444444444444,
              "#000015"
             ],
             [
              0.5555555555555556,
              "#000016"
             ],
             [
              0.6666666666666666,
              "#000017"
             ],
             [
              0.7777777777777778,
              "#000018"
             ],
             [
              0.8888888888888888,
              "#000019"
             ],
             [
              1,
              "#000020"
             ]
            ],
            "type": "contourcarpet"
           }
          ],
          "heatmap": [
           {
            "colorscale": [
             [
              0,
              "#000011"
             ],
             [
              0.1111111111111111,
              "#000012"
             ],
             [
              0.2222222222222222,
              "#000013"
             ],
             [
              0.3333333333333333,
              "#000014"
             ],
             [
              0.4444444444444444,
              "#000015"
             ],
             [
              0.5555555555555556,
              "#000016"
             ],
             [
              0.6666666666666666,
              "#000017"
             ],
             [
              0.7777777777777778,
              "#000018"
             ],
             [
              0.8888888888888888,
              "#000019"
             ],
             [
              1,
              "#000020"
             ]
            ],
            "type": "heatmap"
           }
          ],
          "histogram2d": [
           {
            "colorscale": [
             [
              0,
              "#000011"
             ],
             [
              0.1111111111111111,
              "#000012"
             ],
             [
              0.2222222222222222,
              "#000013"
             ],
             [
              0.3333333333333333,
              "#000014"
             ],
             [
              0.4444444444444444,
              "#000015"
             ],
             [
              0.5555555555555556,
              "#000016"
             ],
             [
              0.6666666666666666,
              "#000017"
             ],
             [
              0.7777777777777778,
              "#000018"
             ],
             [
              0.8888888888888888,
              "#000019"
             ],
             [
              1,
              "#000020"
             ]
            ],
            "type": "histogram2d"
           }
          ],
          "icicle": [
           {
            "textfont": {
             "color": "white"
            },
            "type": "icicle"
           }
          ],
          "sankey": [
           {
            "textfont": {
             "color": "#000036"
            },
            "type": "sankey"
           }
          ],
          "scatter": [
           {
            "marker": {
             "line": {
              "width": 0
             }
            },
            "type": "scatter"
           }
          ],
          "table": [
           {
            "cells": {
             "fill": {
              "color": "#000038"
             },
             "font": {
              "color": "#000037"
             },
             "line": {
              "color": "#000039"
             }
            },
            "header": {
             "fill": {
              "color": "#000040"
             },
             "font": {
              "color": "#000036"
             },
             "line": {
              "color": "#000039"
             }
            },
            "type": "table"
           }
          ],
          "waterfall": [
           {
            "connector": {
             "line": {
              "color": "#000036",
              "width": 2
             }
            },
            "decreasing": {
             "marker": {
              "color": "#000033"
             }
            },
            "increasing": {
             "marker": {
              "color": "#000032"
             }
            },
            "totals": {
             "marker": {
              "color": "#000034"
             }
            },
            "type": "waterfall"
           }
          ]
         },
         "layout": {
          "coloraxis": {
           "colorscale": [
            [
             0,
             "#000011"
            ],
            [
             0.1111111111111111,
             "#000012"
            ],
            [
             0.2222222222222222,
             "#000013"
            ],
            [
             0.3333333333333333,
             "#000014"
            ],
            [
             0.4444444444444444,
             "#000015"
            ],
            [
             0.5555555555555556,
             "#000016"
            ],
            [
             0.6666666666666666,
             "#000017"
            ],
            [
             0.7777777777777778,
             "#000018"
            ],
            [
             0.8888888888888888,
             "#000019"
            ],
            [
             1,
             "#000020"
            ]
           ]
          },
          "colorscale": {
           "diverging": [
            [
             0,
             "#000021"
            ],
            [
             0.1,
             "#000022"
            ],
            [
             0.2,
             "#000023"
            ],
            [
             0.3,
             "#000024"
            ],
            [
             0.4,
             "#000025"
            ],
            [
             0.5,
             "#000026"
            ],
            [
             0.6,
             "#000027"
            ],
            [
             0.7,
             "#000028"
            ],
            [
             0.8,
             "#000029"
            ],
            [
             0.9,
             "#000030"
            ],
            [
             1,
             "#000031"
            ]
           ],
           "sequential": [
            [
             0,
             "#000011"
            ],
            [
             0.1111111111111111,
             "#000012"
            ],
            [
             0.2222222222222222,
             "#000013"
            ],
            [
             0.3333333333333333,
             "#000014"
            ],
            [
             0.4444444444444444,
             "#000015"
            ],
            [
             0.5555555555555556,
             "#000016"
            ],
            [
             0.6666666666666666,
             "#000017"
            ],
            [
             0.7777777777777778,
             "#000018"
            ],
            [
             0.8888888888888888,
             "#000019"
            ],
            [
             1,
             "#000020"
            ]
           ],
           "sequentialminus": [
            [
             0,
             "#000011"
            ],
            [
             0.1111111111111111,
             "#000012"
            ],
            [
             0.2222222222222222,
             "#000013"
            ],
            [
             0.3333333333333333,
             "#000014"
            ],
            [
             0.4444444444444444,
             "#000015"
            ],
            [
             0.5555555555555556,
             "#000016"
            ],
            [
             0.6666666666666666,
             "#000017"
            ],
            [
             0.7777777777777778,
             "#000018"
            ],
            [
             0.8888888888888888,
             "#000019"
            ],
            [
             1,
             "#000020"
            ]
           ]
          },
          "colorway": [
           "#000001",
           "#000002",
           "#000003",
           "#000004",
           "#000005",
           "#000006",
           "#000007",
           "#000008",
           "#000009",
           "#000010"
          ]
         }
        },
        "title": {
         "text": "Red de Empresas y Apellidos de Directivos"
        },
        "xaxis": {
         "showgrid": false,
         "showticklabels": false,
         "zeroline": false
        },
        "yaxis": {
         "showgrid": false,
         "showticklabels": false,
         "zeroline": false
        }
       }
      }
     },
     "metadata": {},
     "output_type": "display_data"
    }
   ],
   "source": [
    "import plotly.graph_objects as go\n",
    "\n",
    "df = high_freq_company_surname_freq\n",
    "\n",
    "# Crear los datos de los nodos para Plotly\n",
    "empresa_nodes = [node for node, attrs in G.nodes(data=True) if attrs['type'] == 'empresa']\n",
    "apellido_nodes = [node for node, attrs in G.nodes(data=True) if attrs['type'] == 'apellido']\n",
    "\n",
    "# Crear las posiciones de los nodos en Plotly\n",
    "node_x = []\n",
    "node_y = []\n",
    "node_text = []\n",
    "node_color = []\n",
    "\n",
    "for node in G.nodes:\n",
    "    x, y = pos[node]\n",
    "    node_x.append(x)\n",
    "    node_y.append(y)\n",
    "    node_text.append(node)\n",
    "    node_color.append('blue' if node in empresa_nodes else 'green')\n",
    "\n",
    "# Crear las aristas en Plotly\n",
    "edge_x = []\n",
    "edge_y = []\n",
    "edge_width = []\n",
    "\n",
    "for edge in G.edges(data=True):\n",
    "    x0, y0 = pos[edge[0]]\n",
    "    x1, y1 = pos[edge[1]]\n",
    "    edge_x += [x0, x1, None]\n",
    "    edge_y += [y0, y1, None]\n",
    "    edge_width.append(edge[2]['weight'])\n",
    "\n",
    "# Crear las figuras de Plotly\n",
    "edge_trace = go.Scatter(\n",
    "    x=edge_x, y=edge_y,\n",
    "    line=dict(width=0.5, color='#888'),\n",
    "    hoverinfo='none',\n",
    "    mode='lines'\n",
    ")\n",
    "\n",
    "node_trace = go.Scatter(\n",
    "    x=node_x, y=node_y,\n",
    "    mode='markers+text',\n",
    "    text=node_text,\n",
    "    marker=dict(\n",
    "        showscale=True,\n",
    "        colorscale='YlGnBu',\n",
    "        color=node_color,\n",
    "        size=10,\n",
    "        colorbar=dict(\n",
    "            thickness=15,\n",
    "            title='Count',\n",
    "            xanchor='left',\n",
    "            titleside='right'\n",
    "        )\n",
    "    )\n",
    ")\n",
    "\n",
    "fig = go.Figure(data=[edge_trace, node_trace],\n",
    "                layout=go.Layout(\n",
    "                    title='Red de Empresas y Apellidos de Directivos',\n",
    "                    showlegend=False,\n",
    "                    hovermode='closest',\n",
    "                    margin=dict(b=0, l=0, r=0, t=40),\n",
    "                    xaxis=dict(showgrid=False, zeroline=False, showticklabels=False),\n",
    "                    yaxis=dict(showgrid=False, zeroline=False, showticklabels=False)\n",
    "                ))\n",
    "\n",
    "fig.show()\n"
   ]
  },
  {
   "cell_type": "code",
   "execution_count": null,
   "metadata": {},
   "outputs": [],
   "source": []
  }
 ],
 "metadata": {
  "kernelspec": {
   "display_name": "nb-env",
   "language": "python",
   "name": "python3"
  },
  "language_info": {
   "codemirror_mode": {
    "name": "ipython",
    "version": 3
   },
   "file_extension": ".py",
   "mimetype": "text/x-python",
   "name": "python",
   "nbconvert_exporter": "python",
   "pygments_lexer": "ipython3",
   "version": "3.12.1"
  }
 },
 "nbformat": 4,
 "nbformat_minor": 4
}
